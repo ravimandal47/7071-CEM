{
 "cells": [
  {
   "cell_type": "code",
   "execution_count": 7,
   "id": "f4c861e0",
   "metadata": {},
   "outputs": [],
   "source": [
    "from tkinter import *\n",
    "from tkinter.messagebox import *\n",
    "import numpy as np\n",
    "import pandas as pd\n",
    "import seaborn as sns\n",
    "from nltk.corpus import stopwords\n",
    "from nltk.stem import PorterStemmer\n",
    "from nltk.tokenize import word_tokenize\n",
    "from sklearn.feature_extraction.text import TfidfVectorizer\n",
    "from sklearn.metrics import confusion_matrix, f1_score, accuracy_score, classification_report\n",
    "from sklearn.naive_bayes import MultinomialNB\n",
    "from skmultilearn.problem_transform import ClassifierChain\n",
    "import matplotlib.pyplot as plt\n",
    "import pickle\n",
    "from sklearn.pipeline import Pipeline\n",
    "import nltk"
   ]
  },
  {
   "cell_type": "code",
   "execution_count": 8,
   "id": "dd48cfb3",
   "metadata": {},
   "outputs": [
    {
     "name": "stdout",
     "output_type": "stream",
     "text": [
      "Requirement already satisfied: scikit-multilearn in c:\\users\\pc\\anaconda3\\lib\\site-packages (0.2.0)\n",
      "Note: you may need to restart the kernel to use updated packages.\n"
     ]
    }
   ],
   "source": [
    "pip install scikit-multilearn"
   ]
  },
  {
   "cell_type": "code",
   "execution_count": 10,
   "id": "5cb3987e",
   "metadata": {},
   "outputs": [
    {
     "name": "stderr",
     "output_type": "stream",
     "text": [
      "[nltk_data] Downloading package stopwords to\n",
      "[nltk_data]     C:\\Users\\pc\\AppData\\Roaming\\nltk_data...\n",
      "[nltk_data]   Package stopwords is already up-to-date!\n"
     ]
    }
   ],
   "source": [
    "# Download required NLTK data\n",
    "nltk.download('stopwords')\n",
    "\n",
    "train_data = pd.read_csv('Train.csv')\n",
    "test_data = pd.read_csv('Test.csv')\n",
    "\n",
    "abstract_list_train = []\n",
    "abstract_list_test = []\n",
    "stemmer = PorterStemmer()\n",
    "stop_words = stopwords.words('english')"
   ]
  },
  {
   "cell_type": "code",
   "execution_count": 12,
   "id": "0a45ae93",
   "metadata": {},
   "outputs": [],
   "source": [
    "# Remove StopWords and Stemming\n",
    "def remove_stopwords(data):\n",
    "    data_list = []\n",
    "    for name in data:\n",
    "        words = word_tokenize(name)\n",
    "        stem_word = \"\"\n",
    "        for a in words:\n",
    "            if a.lower() not in stop_words:\n",
    "                stem_word += stemmer.stem(a) + ' '\n",
    "        data_list.append(stem_word.lower())\n",
    "    return data_list"
   ]
  },
  {
   "cell_type": "code",
   "execution_count": 14,
   "id": "0d86f5df",
   "metadata": {},
   "outputs": [],
   "source": [
    "# Remove Special Characters\n",
    "def remove_special_character(data):\n",
    "    abstract_list_wo_sc = []\n",
    "    special_characters = '''!()-—[]{};:'\"\\, <>./?@#$%^&*_~0123456789+=’‘'''\n",
    "    for file in data:\n",
    "        word_wo_sc = \"\"\n",
    "        if len(file.split()) == 1:\n",
    "            abstract_list_wo_sc.append(file)\n",
    "        else:\n",
    "            for a in file:\n",
    "                if a in special_characters:\n",
    "                    word_wo_sc += ' '\n",
    "                else:\n",
    "                    word_wo_sc += a\n",
    "            abstract_list_wo_sc.append(word_wo_sc)\n",
    "    return abstract_list_wo_sc"
   ]
  },
  {
   "cell_type": "code",
   "execution_count": 16,
   "id": "c86dde3e",
   "metadata": {},
   "outputs": [],
   "source": [
    "# Remove stopwords from Train Data\n",
    "data_train = np.array(train_data['ABSTRACT'])\n",
    "abstract_list_train = remove_stopwords(data_train)"
   ]
  },
  {
   "cell_type": "code",
   "execution_count": 18,
   "id": "8690c7af",
   "metadata": {},
   "outputs": [],
   "source": [
    "# Remove stopwords from Test Data\n",
    "data_test = np.array(test_data['ABSTRACT'])\n",
    "abstract_list_test = remove_stopwords(data_test)"
   ]
  },
  {
   "cell_type": "code",
   "execution_count": 20,
   "id": "a8accf2f",
   "metadata": {},
   "outputs": [],
   "source": [
    "# Removing special characters from Train Data and Test Data\n",
    "abstract_list_wo_sc_train = remove_special_character(abstract_list_train)\n",
    "abstract_list_wo_sc_test = remove_special_character(abstract_list_test)"
   ]
  },
  {
   "cell_type": "code",
   "execution_count": 22,
   "id": "a75c5558",
   "metadata": {},
   "outputs": [],
   "source": [
    "categories = ['Computer Science', 'Physics', 'Mathematics', 'Statistics']\n",
    "\n",
    "x_train = abstract_list_wo_sc_train\n",
    "y_train = train_data[categories]\n",
    "x_test = abstract_list_wo_sc_test\n",
    "y_test = test_data[categories]"
   ]
  },
  {
   "cell_type": "code",
   "execution_count": 24,
   "id": "37d28f90",
   "metadata": {},
   "outputs": [
    {
     "name": "stdout",
     "output_type": "stream",
     "text": [
      "There are 14004 input training samples\n",
      "There are 6002 input testing samples\n",
      "There are 14004 output training samples\n",
      "There are 6002 output testing samples\n"
     ]
    }
   ],
   "source": [
    "print(\"There are\", len(x_train), \"input training samples\")\n",
    "print(\"There are\", len(x_test), \"input testing samples\")\n",
    "print(\"There are\", y_train.shape[0], \"output training samples\")\n",
    "print(\"There are\", y_test.shape[0], \"output testing samples\")\n",
    "\n",
    "# Define parameters for pipeline\n",
    "parameters = Pipeline([\n",
    "    ('tfidf', TfidfVectorizer(stop_words=stop_words)),\n",
    "    ('clf', ClassifierChain(MultinomialNB()))\n",
    "])\n"
   ]
  },
  {
   "cell_type": "code",
   "execution_count": 26,
   "id": "894e4e08",
   "metadata": {},
   "outputs": [
    {
     "data": {
      "text/plain": [
       "Pipeline(steps=[('tfidf',\n",
       "                 TfidfVectorizer(stop_words=['i', 'me', 'my', 'myself', 'we',\n",
       "                                             'our', 'ours', 'ourselves', 'you',\n",
       "                                             \"you're\", \"you've\", \"you'll\",\n",
       "                                             \"you'd\", 'your', 'yours',\n",
       "                                             'yourself', 'yourselves', 'he',\n",
       "                                             'him', 'his', 'himself', 'she',\n",
       "                                             \"she's\", 'her', 'hers', 'herself',\n",
       "                                             'it', \"it's\", 'its', 'itself', ...])),\n",
       "                ('clf',\n",
       "                 ClassifierChain(classifier=MultinomialNB(),\n",
       "                                 require_dense=[True, True]))])"
      ]
     },
     "execution_count": 26,
     "metadata": {},
     "output_type": "execute_result"
    }
   ],
   "source": [
    "# Train the model\n",
    "parameters.fit(x_train, y_train)"
   ]
  },
  {
   "cell_type": "code",
   "execution_count": 28,
   "id": "97caf2b7",
   "metadata": {},
   "outputs": [
    {
     "name": "stdout",
     "output_type": "stream",
     "text": [
      "Accuracy: 0.6391202932355882\n",
      "F1 score: 0.7653077537969625\n",
      "              precision    recall  f1-score   support\n",
      "\n",
      "           0       0.78      0.88      0.83      2529\n",
      "           1       0.99      0.87      0.92      1644\n",
      "           2       0.99      0.48      0.65      1194\n",
      "           3       0.92      0.34      0.49      1660\n",
      "\n",
      "   micro avg       0.87      0.68      0.77      7027\n",
      "   macro avg       0.92      0.64      0.72      7027\n",
      "weighted avg       0.90      0.68      0.74      7027\n",
      " samples avg       0.76      0.72      0.73      7027\n",
      "\n"
     ]
    },
    {
     "name": "stderr",
     "output_type": "stream",
     "text": [
      "C:\\Users\\pc\\anaconda3\\lib\\site-packages\\sklearn\\metrics\\_classification.py:1318: UndefinedMetricWarning: Precision and F-score are ill-defined and being set to 0.0 in samples with no predicted labels. Use `zero_division` parameter to control this behavior.\n",
      "  _warn_prf(average, modifier, msg_start, len(result))\n"
     ]
    }
   ],
   "source": [
    "# Predict\n",
    "predictions = parameters.predict(x_test)\n",
    "\n",
    "print('Accuracy:', accuracy_score(y_test, predictions))\n",
    "print('F1 score:', f1_score(y_test, predictions, average=\"micro\"))\n",
    "print(classification_report(y_test, predictions))\n"
   ]
  },
  {
   "cell_type": "code",
   "execution_count": 33,
   "id": "30f9eb06",
   "metadata": {},
   "outputs": [
    {
     "data": {
      "image/png": "[encoded data removed]",
      "text/plain": [
       "<Figure size 640x480 with 1 Axes>"
      ]
     },
     "metadata": {},
     "output_type": "display_data"
    }
   ],
   "source": [
    "mat = confusion_matrix(y_test.values.argmax(axis=1), predictions.argmax(axis=1))\n",
    "sns.heatmap(mat.T, square=True, annot=True, fmt='d', cbar=False)\n",
    "plt.xlabel('True label')\n",
    "plt.ylabel('Predicted label')\n",
    "plt.show()"
   ]
  },
  {
   "cell_type": "code",
   "execution_count": 32,
   "id": "bc216141",
   "metadata": {},
   "outputs": [],
   "source": [
    " #Save the trained model\n",
    "with open('model_MultiNB.pkl', 'wb') as picklefile:\n",
    "    pickle.dump(parameters.named_steps['clf'], picklefile)"
   ]
  }
 ],
 "metadata": {
  "kernelspec": {
   "display_name": "Python 3 (ipykernel)",
   "language": "python",
   "name": "python3"
  },
  "language_info": {
   "codemirror_mode": {
    "name": "ipython",
    "version": 3
   },
   "file_extension": ".py",
   "mimetype": "text/x-python",
   "name": "python",
   "nbconvert_exporter": "python",
   "pygments_lexer": "ipython3",
   "version": "3.9.13"
  }
 },
 "nbformat": 4,
 "nbformat_minor": 5
}
